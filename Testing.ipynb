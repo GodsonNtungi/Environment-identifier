{
 "cells": [
  {
   "cell_type": "code",
   "execution_count": 9,
   "id": "0e0427e4",
   "metadata": {},
   "outputs": [],
   "source": [
    "import tensorflow as tf\n",
    "from tensorflow.keras.utils import image_dataset_from_directory\n",
    "import pathlib"
   ]
  },
  {
   "cell_type": "code",
   "execution_count": 10,
   "id": "7bb42fa2",
   "metadata": {},
   "outputs": [],
   "source": [
    "model = tf.keras.models.load_model('intelli1.h5')"
   ]
  },
  {
   "cell_type": "code",
   "execution_count": 20,
   "id": "60cc7659",
   "metadata": {},
   "outputs": [],
   "source": [
    "test_data = pathlib.Path('seg_test/seg_test')"
   ]
  },
  {
   "cell_type": "code",
   "execution_count": 21,
   "id": "bc05b0d3",
   "metadata": {},
   "outputs": [
    {
     "name": "stdout",
     "output_type": "stream",
     "text": [
      "Found 3000 files belonging to 6 classes.\n"
     ]
    }
   ],
   "source": [
    "test_data = image_dataset_from_directory(test_data,seed=123,\n",
    "                                batch_size=32,\n",
    "                                image_size=(128,128),\n",
    "                                label_mode='categorical')"
   ]
  },
  {
   "cell_type": "code",
   "execution_count": 22,
   "id": "e3f13aea",
   "metadata": {},
   "outputs": [
    {
     "name": "stdout",
     "output_type": "stream",
     "text": [
      "94/94 [==============================] - 53s 451ms/step - loss: 0.7162 - accuracy: 0.7397\n"
     ]
    },
    {
     "data": {
      "text/plain": [
       "[0.716174304485321, 0.7396666407585144]"
      ]
     },
     "execution_count": 22,
     "metadata": {},
     "output_type": "execute_result"
    }
   ],
   "source": [
    "model.evaluate(test_data)"
   ]
  },
  {
   "cell_type": "code",
   "execution_count": 36,
   "id": "19acce3d",
   "metadata": {},
   "outputs": [],
   "source": [
    "from PIL import Image\n",
    "import numpy as np"
   ]
  },
  {
   "cell_type": "code",
   "execution_count": 37,
   "id": "4eec9d61",
   "metadata": {},
   "outputs": [],
   "source": [
    "image= Image.open('seg_pred/seg_pred/10004.jpg')"
   ]
  },
  {
   "cell_type": "code",
   "execution_count": 38,
   "id": "1ff6c057",
   "metadata": {},
   "outputs": [],
   "source": [
    "image = image.resize((128, 128))"
   ]
  },
  {
   "cell_type": "code",
   "execution_count": 39,
   "id": "6a4f58e0",
   "metadata": {},
   "outputs": [],
   "source": [
    "image = np.array(image)"
   ]
  },
  {
   "cell_type": "code",
   "execution_count": 40,
   "id": "dc11ba44",
   "metadata": {},
   "outputs": [],
   "source": [
    "prediction =model.predict([image[None,:,:,:]])"
   ]
  },
  {
   "cell_type": "code",
   "execution_count": 41,
   "id": "ef9ac8bf",
   "metadata": {},
   "outputs": [
    {
     "data": {
      "text/plain": [
       "array([[0.36833897, 0.03801729, 0.00296687, 0.00851757, 0.00059204,\n",
       "        0.5815672 ]], dtype=float32)"
      ]
     },
     "execution_count": 41,
     "metadata": {},
     "output_type": "execute_result"
    }
   ],
   "source": [
    "prediction"
   ]
  },
  {
   "cell_type": "code",
   "execution_count": null,
   "id": "f3ef0e52",
   "metadata": {},
   "outputs": [],
   "source": []
  }
 ],
 "metadata": {
  "kernelspec": {
   "display_name": "Python 3",
   "language": "python",
   "name": "python3"
  },
  "language_info": {
   "codemirror_mode": {
    "name": "ipython",
    "version": 3
   },
   "file_extension": ".py",
   "mimetype": "text/x-python",
   "name": "python",
   "nbconvert_exporter": "python",
   "pygments_lexer": "ipython3",
   "version": "3.8.8"
  }
 },
 "nbformat": 4,
 "nbformat_minor": 5
}
